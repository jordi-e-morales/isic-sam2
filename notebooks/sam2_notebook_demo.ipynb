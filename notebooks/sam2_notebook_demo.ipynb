{
  "cells": [
    {
      "cell_type": "markdown",
      "metadata": {},
      "source": [
        "# SAM2 ISIC Notebook Demo\n\n",
        "This notebook demonstrates the core flow used in the Streamlit app:\n",
        "- load an image\n",
        "- run SAM2 (or a classical fallback) with a point/box prompt\n",
        "- get a binary mask\n",
        "- compute ABCD-style metrics\n",
        "- visualize and export the mask/overlay\n\n",
        "Note: If SAM 2 or weights are not available, the notebook falls back to a classical segmentation method for demonstration purposes."
      ]
    },
    {
      "cell_type": "code",
      "execution_count": null,
      "metadata": {},
      "outputs": [],
      "source": [
        "import os\n",
        "import json\n",
        "from pathlib import Path\n",
        "import sys\n\n",
        "import numpy as np\n",
        "from PIL import Image\n",
        "import matplotlib.pyplot as plt\n\n",
        "import torch\n\n",
        "# Make sure we can import project modules whether we run from repo root or notebooks/\n",
        "repo_root = Path.cwd()\n",
        "if not (repo_root / 'sam2_infer.py').exists():\n",
        "    if (repo_root.parent / 'sam2_infer.py').exists():\n",
        "        repo_root = repo_root.parent\n",
        "        sys.path.insert(0, str(repo_root))\n",
        "else:\n",
        "    sys.path.insert(0, str(repo_root))\n\n",
        "from sam2_infer import Sam2Wrapper, sam2_available\n",
        "from metrics import compute_metrics\n",
        "from viz import overlay_mask_with_contour\n\n",
        "print('Repo root:', repo_root)\n",
        "print('CUDA available:', torch.cuda.is_available())\n",
        "print('SAM2 package detected:', sam2_available())\n"
      ]
    },
    {
      "cell_type": "code",
      "execution_count": null,
      "metadata": {},
      "outputs": [],
      "source": [
        "# Paths and configuration\n",
        "ckpt_path = Path('models/sam2_hiera_large.pt')\n",
        "samples_dir = repo_root / 'data' / 'samples'\n\n",
        "sample_images = sorted([p for p in samples_dir.glob('*') if p.suffix.lower() in ('.jpg','.jpeg','.png','.bmp')])\n",
        "if sample_images:\n",
        "    image_path = sample_images[0]\n",
        "else:\n",
        "    # Set this to a local image path if you don't have samples\n",
        "    image_path = Path('path_to_your_image.jpg')\n\n",
        "device = 'cuda' if torch.cuda.is_available() else 'cpu'\n\n",
        "print('Checkpoint path:', ckpt_path)\n",
        "print('Image path:', image_path)\n",
        "print('Device:', device)\n"
      ]
    },
    {
      "cell_type": "code",
      "execution_count": null,
      "metadata": {},
      "outputs": [],
      "source": [
        "# Load and display image\n",
        "if not image_path.exists():\n",
        "    raise FileNotFoundError(f'Image not found: {image_path}. Put images in {samples_dir} or update image_path.')\n\n",
        "image = Image.open(image_path).convert('RGB')\n",
        "W, H = image.size\n",
        "plt.figure(figsize=(6,6))\n",
        "plt.imshow(image)\n",
        "plt.title('Input image')\n",
        "plt.axis('off')\n",
        "plt.show()\n"
      ]
    },
    {
      "cell_type": "code",
      "execution_count": null,
      "metadata": {},
      "outputs": [],
      "source": [
        "# Initialize SAM2 (if available)\n",
        "sam2 = Sam2Wrapper(device=device, ckpt_path=str(ckpt_path) if ckpt_path.exists() else None)\n",
        "print('SAM backend ready:', sam2.ready)\n"
      ]
    },
    {
      "cell_type": "code",
      "execution_count": null,
      "metadata": {},
      "outputs": [],
      "source": [
        "# Define a prompt: either a point or a box.\n",
        "# Edit these values as needed.\n\n",
        "use_box = True  # set to False to use a single point\n\n",
        "if use_box:\n",
        "    box = (W * 0.25, H * 0.25, W * 0.75, H * 0.75)  # (x0, y0, x1, y1)\n",
        "    prompt = {'box': box}\n",
        "else:\n",
        "    point = (W * 0.5, H * 0.5)  # (x, y)\n",
        "    prompt = {'point': point}\n\n",
        "print('Prompt:', prompt)\n"
      ]
    },
    {
      "cell_type": "code",
      "execution_count": null,
      "metadata": {},
      "outputs": [],
      "source": [
        "# Run segmentation\n",
        "np_img = np.array(image)\n",
        "mask = None\n",
        "used_backend = 'fallback'\n\n",
        "if sam2.ready:\n",
        "    try:\n",
        "        if 'point' in prompt:\n",
        "            px, py = prompt['point']\n",
        "            mask = sam2.segment(np_img, point=(px, py))\n",
        "        else:\n",
        "            mask = sam2.segment(np_img, box=prompt['box'])\n",
        "        used_backend = 'sam2'\n",
        "    except Exception as e:\n",
        "        print('SAM2 inference failed:', e)\n\n",
        "if mask is None:\n",
        "    if 'point' in prompt:\n",
        "        px, py = prompt['point']\n",
        "        mask = Sam2Wrapper.segment_fallback(np_img, point=(px, py))\n",
        "    else:\n",
        "        mask = Sam2Wrapper.segment_fallback(np_img, box=prompt['box'])\n\n",
        "if mask is None:\n",
        "    raise RuntimeError('Segmentation failed.')\n\n",
        "print('Backend used:', used_backend)\n",
        "print('Mask shape:', mask.shape, 'dtype:', mask.dtype, 'foreground pixels:', int(mask.sum()))\n"
      ]
    },
    {
      "cell_type": "code",
      "execution_count": null,
      "metadata": {},
      "outputs": [],
      "source": [
        "# Visualize overlay and export\n",
        "exports_dir = repo_root / 'exports'\n",
        "exports_dir.mkdir(parents=True, exist_ok=True)\n\n",
        "overlay = overlay_mask_with_contour(image, mask, mask_color=(0, 255, 0), contour_color=(255, 0, 0), alpha=0.35)\n\n",
        "plt.figure(figsize=(6,6))\n",
        "plt.imshow(overlay)\n",
        "plt.title('Overlay (mask + contour)')\n",
        "plt.axis('off')\n",
        "plt.show()\n\n",
        "overlay_path = exports_dir / 'notebook_overlay.png'\n",
        "overlay.save(overlay_path)\n",
        "print('Saved overlay to:', overlay_path)\n"
      ]
    },
    {
      "cell_type": "code",
      "execution_count": null,
      "metadata": {},
      "outputs": [],
      "source": [
        "# Compute metrics\n",
        "metrics = compute_metrics(mask, np_img)\n",
        "print(json.dumps(metrics, indent=2))\n\n",
        "metrics_path = exports_dir / 'notebook_metrics.json'\n",
        "with open(metrics_path, 'w', encoding='utf-8') as f:\n",
        "    json.dump(metrics, f, indent=2)\n",
        "print('Saved metrics to:', metrics_path)\n"
      ]
    },
    {
      "cell_type": "code",
      "execution_count": null,
      "metadata": {},
      "outputs": [],
      "source": [
        "# Save binary mask and a masked image view\n",
        "mask_img = Image.fromarray((mask.astype(np.uint8) * 255), mode='L')\n",
        "mask_path = exports_dir / 'notebook_mask.png'\n",
        "mask_img.save(mask_path)\n\n",
        "masked = np_img.copy()\n",
        "masked[~mask.astype(bool)] = 0\n",
        "masked_img = Image.fromarray(masked)\n",
        "masked_path = exports_dir / 'notebook_masked.png'\n",
        "masked_img.save(masked_path)\n\n",
        "plt.figure(figsize=(12,6))\n",
        "plt.subplot(1,2,1)\n",
        "plt.imshow(mask_img, cmap='gray')\n",
        "plt.title('Mask')\n",
        "plt.axis('off')\n",
        "plt.subplot(1,2,2)\n",
        "plt.imshow(masked_img)\n",
        "plt.title('Masked image')\n",
        "plt.axis('off')\n",
        "plt.show()\n\n",
        "print('Saved mask to:', mask_path)\n",
        "print('Saved masked image to:', masked_path)\n"
      ]
    },
    {
      "cell_type": "markdown",
      "metadata": {},
      "source": [
        "### Notes\n",
        "- If `models/sam2_hiera_large.pt` is missing, the notebook will still produce a mask via classical fallback.\n",
        "- To use SAM 2, download the checkpoint and update `ckpt_path` if needed.\n",
        "- Set `use_box = False` in the prompt cell to use a single click point instead of a box.\n",
        "- Device is auto-selected based on CUDA availability; set it manually if needed.\n"
      ]
    }
  ],
  "metadata": {
    "kernelspec": {
      "display_name": "Python 3",
      "language": "python",
      "name": "python3"
    },
    "language_info": {
      "name": "python",
      "version": "3.10"
    }
  },
  "nbformat": 4,
  "nbformat_minor": 5
}
